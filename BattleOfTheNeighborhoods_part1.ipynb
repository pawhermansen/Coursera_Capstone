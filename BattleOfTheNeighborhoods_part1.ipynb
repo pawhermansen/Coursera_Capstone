{
 "cells": [
  {
   "cell_type": "markdown",
   "metadata": {},
   "source": [
    "# The Battle of the Neighborhoods: Is Copenhagen like Paris?\n",
    "\n",
    "## Applied Data Science Capstone, Coursera/IBM\n",
    "\n",
    "**Author: Paw Hermansen (https://pawhermansen.dk)**  \n",
    "**Date: November 9, 2018**"
   ]
  },
  {
   "cell_type": "markdown",
   "metadata": {},
   "source": [
    "This notebook contains the first part of my Capstone Project for the Coursera/IBM course series *IBM Data Science Professional Certificate Specialization*."
   ]
  },
  {
   "cell_type": "markdown",
   "metadata": {},
   "source": [
    "# Import Pyton Code Libraries"
   ]
  },
  {
   "cell_type": "code",
   "execution_count": 1,
   "metadata": {},
   "outputs": [],
   "source": [
    "from bs4 import BeautifulSoup\n",
    "from geopy.geocoders import Nominatim\n",
    "import os\n",
    "import numpy as np\n",
    "import pandas as pd\n",
    "import requests\n",
    "import csv\n",
    "import folium\n",
    "import geopy.distance"
   ]
  },
  {
   "cell_type": "markdown",
   "metadata": {},
   "source": [
    "# 1. The Problem"
   ]
  },
  {
   "cell_type": "markdown",
   "metadata": {},
   "source": [
    "Travel guide publisher *Lonely Planet* recently put the danish capital Copenhagen on top of their list of the best cities to visit in 2019. Copenhagen has a lot to offer, says *Lonely Planet* and mentions the cyclists, the many green spaces, the old and new architecture, the great museums, Tivoli garden, the galleries, the restaurants, including fancy New Nordic restaurants and even marvelous street food markets and indie bars.\n",
    "\n",
    "That made some Copenhageners claim in the local newspapers that Copenhagen is like Paris in the summer. If this is true it will be interesting not only for tourists trying to find new and exciting destinations but also for the Copenhagen tourist association, visitcopenhagen.dk, that could direct its marketing to compete directly against other cities like Paris.\n",
    "\n",
    "It is not stated clearly in exactly what way the likeness between Copenhagen and Paris is thought to be. It is clearly not in the weather because the Copenhageners compare Copenhagen in the summer to Paris and they do not mention the winter. Also it is clearly not in the languages - even though that both Copenhagen and Paris are very alike in that they speak languages that are totally un-understandable to anyone else. In Copenhhagen, however, nearly everyone also speaks fluent English which is certainly not the case in Paris.\n",
    "\n",
    "The likeness between Copenhagen and Paris is probably more a feeling that when you walk around in Copenhagen and Paris you will see the same kind and distribution of restaurants, bars, sights, bakeries and all other kinds of venues and this is this definition of likeness that I choose to investigate.\n",
    "\n",
    "This notebook uses tools from Data Science and Machine Learning to investigate if Copenhagen is like Paris in the above mentioned sense."
   ]
  },
  {
   "cell_type": "markdown",
   "metadata": {},
   "source": [
    "# 2. Machine Learning Approach"
   ]
  },
  {
   "cell_type": "markdown",
   "metadata": {},
   "source": [
    "My approach will be to part each of the two cities into neighborhoods that I will consider as homogeneous with respect to their venue types.\n",
    "\n",
    "Then to see how alike the Copenhagen and the Paris neighborhoods are I will make cluster analysis of all the neighborhoods together based on their frequency of their most frequently occuring venue types. For example if I cluster all the neighborhoods into two or more clusters and all the Copenhagen neighborhoods ends up in their own clusters and all the Paris neighborhoods ends up in other clusters then Copenhagen and Paris are more alike to themself than to each other. But if the neighborhoods ends up being mixed in clusters across the two cities then you are very right in claiming that Copenhagen, or at least some neighborhoods of Copenhagen, are like Paris.\n",
    "\n",
    "If the to cities in fact have neighborhoods that are alike then the clustering will also show exactly which neighborhoods from the two cities are most like each other."
   ]
  },
  {
   "cell_type": "markdown",
   "metadata": {},
   "source": [
    "# 3. Data Requirements"
   ]
  },
  {
   "cell_type": "markdown",
   "metadata": {},
   "source": [
    "Two sets of data for each city is needed for the cluster analysis - the neighborhoods and the venue types within each neighborhood."
   ]
  },
  {
   "cell_type": "markdown",
   "metadata": {},
   "source": [
    "## The neighborhoods\n",
    "\n",
    "To be used in the cluster algorithm the frequencies of the venue types must be brought into so-called One Hot Encoding showing their frequncy within each neighborhood.\n",
    "\n",
    "Comparing two neighborhoods based on their most frequent venue types will need more than just the one or two most frequently venue types to be fair. I decide to compare the ten most frequently venue types within each neighborhood.\n",
    "\n",
    "The neighborhoods should be small enough to be close to homogeneous with respect to their venue types but they should also be large enough to contain enough venues and venue types that it makes sense to take the ten most frequently venue types. I guess that each neighborhood will need at least about 25 venues.\n",
    "\n",
    "The nighborhoods can be found in several ways. One way will be to base them on postal codes but this might not define neighborhoods that align with the common tourist point of view. Instead the neighborhoods can be scraped from tourist websites and their locations can be found from wikipedia or from their addresses through geographical services. The Paris data might be available from OpenData Paris."
   ]
  },
  {
   "cell_type": "markdown",
   "metadata": {},
   "source": [
    "## The Venue types within each neighborhood\n",
    "\n",
    "Foursquare is a service that you can use to find the best places to eat, drink, shop, or visit in any city in the world. They also offer access through an open API with some limitations, registering necessary.\n",
    "\n",
    "We can call the Foursquare API a list of venues and their types within a certain distance from any location within Copenhagen and Paris. This means that for our purpose the neighborhoods will be defined as a center location and a radius around this center."
   ]
  },
  {
   "cell_type": "markdown",
   "metadata": {},
   "source": [
    "# 4. Data Collection"
   ]
  },
  {
   "cell_type": "markdown",
   "metadata": {},
   "source": [
    "## The neighborhoods of Paris\n",
    "\n",
    "Paris is parted into 20 so-called arrondissements that are administrative zones of Paris that fit most tourists view of neighborhoods in Paris. The name and the geographical coordinates of the location of each arrondissement can be downloaded in different formats from the [Paris Data](https://opendata.paris.fr) website - the data is covered by the [Open Database License (ODbL)](https://opendatacommons.org/licenses/odbl/)."
   ]
  },
  {
   "cell_type": "code",
   "execution_count": 2,
   "metadata": {},
   "outputs": [
    {
     "name": "stdout",
     "output_type": "stream",
     "text": [
      "Number of rows = 20, number of columns = 12\n"
     ]
    },
    {
     "data": {
      "text/html": [
       "<div>\n",
       "<style scoped>\n",
       "    .dataframe tbody tr th:only-of-type {\n",
       "        vertical-align: middle;\n",
       "    }\n",
       "\n",
       "    .dataframe tbody tr th {\n",
       "        vertical-align: top;\n",
       "    }\n",
       "\n",
       "    .dataframe thead th {\n",
       "        text-align: right;\n",
       "    }\n",
       "</style>\n",
       "<table border=\"1\" class=\"dataframe\">\n",
       "  <thead>\n",
       "    <tr style=\"text-align: right;\">\n",
       "      <th></th>\n",
       "      <th>n_sq_ar</th>\n",
       "      <th>c_ar</th>\n",
       "      <th>c_arinsee</th>\n",
       "      <th>l_ar</th>\n",
       "      <th>l_aroff</th>\n",
       "      <th>n_sq_co</th>\n",
       "      <th>surface</th>\n",
       "      <th>perimetre</th>\n",
       "      <th>geom_x_y</th>\n",
       "      <th>geom</th>\n",
       "      <th>objectid</th>\n",
       "      <th>longueur</th>\n",
       "    </tr>\n",
       "  </thead>\n",
       "  <tbody>\n",
       "    <tr>\n",
       "      <th>0</th>\n",
       "      <td>750000002</td>\n",
       "      <td>2</td>\n",
       "      <td>75102</td>\n",
       "      <td>2ème Ardt</td>\n",
       "      <td>Bourse</td>\n",
       "      <td>750001537</td>\n",
       "      <td>9.911537e+05</td>\n",
       "      <td>4554.104360</td>\n",
       "      <td>48.8682792225, 2.34280254689</td>\n",
       "      <td>{\"type\": \"Polygon\", \"coordinates\": [[[2.351518...</td>\n",
       "      <td>2</td>\n",
       "      <td>4553.938764</td>\n",
       "    </tr>\n",
       "    <tr>\n",
       "      <th>1</th>\n",
       "      <td>750000003</td>\n",
       "      <td>3</td>\n",
       "      <td>75103</td>\n",
       "      <td>3ème Ardt</td>\n",
       "      <td>Temple</td>\n",
       "      <td>750001537</td>\n",
       "      <td>1.170883e+06</td>\n",
       "      <td>4519.263648</td>\n",
       "      <td>48.86287238, 2.3600009859</td>\n",
       "      <td>{\"type\": \"Polygon\", \"coordinates\": [[[2.363828...</td>\n",
       "      <td>3</td>\n",
       "      <td>4519.071982</td>\n",
       "    </tr>\n",
       "    <tr>\n",
       "      <th>2</th>\n",
       "      <td>750000012</td>\n",
       "      <td>12</td>\n",
       "      <td>75112</td>\n",
       "      <td>12ème Ardt</td>\n",
       "      <td>Reuilly</td>\n",
       "      <td>750001537</td>\n",
       "      <td>1.631478e+07</td>\n",
       "      <td>24089.666298</td>\n",
       "      <td>48.8349743815, 2.42132490078</td>\n",
       "      <td>{\"type\": \"Polygon\", \"coordinates\": [[[2.413879...</td>\n",
       "      <td>12</td>\n",
       "      <td>24088.038922</td>\n",
       "    </tr>\n",
       "  </tbody>\n",
       "</table>\n",
       "</div>"
      ],
      "text/plain": [
       "     n_sq_ar  c_ar  c_arinsee        l_ar  l_aroff    n_sq_co       surface  \\\n",
       "0  750000002     2      75102   2ème Ardt   Bourse  750001537  9.911537e+05   \n",
       "1  750000003     3      75103   3ème Ardt   Temple  750001537  1.170883e+06   \n",
       "2  750000012    12      75112  12ème Ardt  Reuilly  750001537  1.631478e+07   \n",
       "\n",
       "      perimetre                      geom_x_y  \\\n",
       "0   4554.104360  48.8682792225, 2.34280254689   \n",
       "1   4519.263648     48.86287238, 2.3600009859   \n",
       "2  24089.666298  48.8349743815, 2.42132490078   \n",
       "\n",
       "                                                geom  objectid      longueur  \n",
       "0  {\"type\": \"Polygon\", \"coordinates\": [[[2.351518...         2   4553.938764  \n",
       "1  {\"type\": \"Polygon\", \"coordinates\": [[[2.363828...         3   4519.071982  \n",
       "2  {\"type\": \"Polygon\", \"coordinates\": [[[2.413879...        12  24088.038922  "
      ]
     },
     "execution_count": 2,
     "metadata": {},
     "output_type": "execute_result"
    }
   ],
   "source": [
    "arrondissementsUrl = \"https://opendata.paris.fr/explore/dataset/arrondissements/download\"\n",
    "df_arrondissements = pd.read_csv(arrondissementsUrl, sep=';')\n",
    "\n",
    "print(\"Number of rows = {}, number of columns = {}\".format(df_arrondissements.shape[0], df_arrondissements.shape[1]))\n",
    "df_arrondissements.head(3)"
   ]
  },
  {
   "cell_type": "markdown",
   "metadata": {},
   "source": [
    "I select the name and location fields."
   ]
  },
  {
   "cell_type": "code",
   "execution_count": 3,
   "metadata": {},
   "outputs": [
    {
     "name": "stdout",
     "output_type": "stream",
     "text": [
      "Number of rows = 20, number of columns = 3\n"
     ]
    },
    {
     "data": {
      "text/html": [
       "<div>\n",
       "<style scoped>\n",
       "    .dataframe tbody tr th:only-of-type {\n",
       "        vertical-align: middle;\n",
       "    }\n",
       "\n",
       "    .dataframe tbody tr th {\n",
       "        vertical-align: top;\n",
       "    }\n",
       "\n",
       "    .dataframe thead th {\n",
       "        text-align: right;\n",
       "    }\n",
       "</style>\n",
       "<table border=\"1\" class=\"dataframe\">\n",
       "  <thead>\n",
       "    <tr style=\"text-align: right;\">\n",
       "      <th></th>\n",
       "      <th>Neighborhood</th>\n",
       "      <th>Latitude</th>\n",
       "      <th>Longitude</th>\n",
       "    </tr>\n",
       "  </thead>\n",
       "  <tbody>\n",
       "    <tr>\n",
       "      <th>0</th>\n",
       "      <td>Bourse</td>\n",
       "      <td>48.868279</td>\n",
       "      <td>2.342803</td>\n",
       "    </tr>\n",
       "    <tr>\n",
       "      <th>1</th>\n",
       "      <td>Temple</td>\n",
       "      <td>48.862872</td>\n",
       "      <td>2.360001</td>\n",
       "    </tr>\n",
       "    <tr>\n",
       "      <th>2</th>\n",
       "      <td>Reuilly</td>\n",
       "      <td>48.834974</td>\n",
       "      <td>2.421325</td>\n",
       "    </tr>\n",
       "  </tbody>\n",
       "</table>\n",
       "</div>"
      ],
      "text/plain": [
       "  Neighborhood   Latitude  Longitude\n",
       "0       Bourse  48.868279   2.342803\n",
       "1       Temple  48.862872   2.360001\n",
       "2      Reuilly  48.834974   2.421325"
      ]
     },
     "execution_count": 3,
     "metadata": {},
     "output_type": "execute_result"
    }
   ],
   "source": [
    "names = df_arrondissements['l_aroff'].str.strip()\n",
    "\n",
    "coordinates = df_arrondissements['geom_x_y'].str.split(',', expand=True)\n",
    "coordinates[0] = pd.to_numeric(coordinates[0])\n",
    "coordinates[1] = pd.to_numeric(coordinates[1])\n",
    "\n",
    "df_parisNeighborhoods = pd.concat([names, coordinates], axis=1)\n",
    "df_parisNeighborhoods.columns = ['Neighborhood', 'Latitude', 'Longitude']\n",
    "\n",
    "df_parisNeighborhoods.to_csv('data/paris_neighborhoods.csv', quoting=csv.QUOTE_ALL, index=False)\n",
    "\n",
    "print(\"Number of rows = {}, number of columns = {}\".format(df_parisNeighborhoods.shape[0], df_parisNeighborhoods.shape[1]))\n",
    "df_parisNeighborhoods.head(3)"
   ]
  },
  {
   "cell_type": "markdown",
   "metadata": {},
   "source": [
    "Later I will use Foursquare to find venues in each neighborhood. To get the venues Foursquare requires the geographical latitude and longitude for each neighborhood center and a maximal distance away from each center to search. this gives me a circular search-area centered in each neighborhood. I want my search-areas to be large enough to reflect the venues in the real neighborhoods but I want to avoid too much overlap with other search-areas as this might dilute the result.\n",
    "\n",
    "To meet this I computer the distance in meter to each neighborhoods closest neighbor and later I set the radius of each search area to half of this distance. Finally I save the Paris neighborhoods to a local csv file."
   ]
  },
  {
   "cell_type": "code",
   "execution_count": 4,
   "metadata": {},
   "outputs": [
    {
     "name": "stdout",
     "output_type": "stream",
     "text": [
      "Number of neighborhoods is 20\n"
     ]
    },
    {
     "data": {
      "text/html": [
       "<div>\n",
       "<style scoped>\n",
       "    .dataframe tbody tr th:only-of-type {\n",
       "        vertical-align: middle;\n",
       "    }\n",
       "\n",
       "    .dataframe tbody tr th {\n",
       "        vertical-align: top;\n",
       "    }\n",
       "\n",
       "    .dataframe thead th {\n",
       "        text-align: right;\n",
       "    }\n",
       "</style>\n",
       "<table border=\"1\" class=\"dataframe\">\n",
       "  <thead>\n",
       "    <tr style=\"text-align: right;\">\n",
       "      <th></th>\n",
       "      <th>Neighborhood</th>\n",
       "      <th>Latitude</th>\n",
       "      <th>Longitude</th>\n",
       "      <th>Distance to Nearest</th>\n",
       "    </tr>\n",
       "  </thead>\n",
       "  <tbody>\n",
       "    <tr>\n",
       "      <th>0</th>\n",
       "      <td>Bourse</td>\n",
       "      <td>48.868279</td>\n",
       "      <td>2.342803</td>\n",
       "      <td>788.555891</td>\n",
       "    </tr>\n",
       "    <tr>\n",
       "      <th>1</th>\n",
       "      <td>Temple</td>\n",
       "      <td>48.862872</td>\n",
       "      <td>2.360001</td>\n",
       "      <td>964.527702</td>\n",
       "    </tr>\n",
       "    <tr>\n",
       "      <th>2</th>\n",
       "      <td>Reuilly</td>\n",
       "      <td>48.834974</td>\n",
       "      <td>2.421325</td>\n",
       "      <td>3495.637308</td>\n",
       "    </tr>\n",
       "    <tr>\n",
       "      <th>3</th>\n",
       "      <td>Louvre</td>\n",
       "      <td>48.862563</td>\n",
       "      <td>2.336443</td>\n",
       "      <td>788.555891</td>\n",
       "    </tr>\n",
       "    <tr>\n",
       "      <th>4</th>\n",
       "      <td>Hôtel-de-Ville</td>\n",
       "      <td>48.854341</td>\n",
       "      <td>2.357630</td>\n",
       "      <td>964.527702</td>\n",
       "    </tr>\n",
       "    <tr>\n",
       "      <th>5</th>\n",
       "      <td>Élysée</td>\n",
       "      <td>48.872721</td>\n",
       "      <td>2.312554</td>\n",
       "      <td>1678.621184</td>\n",
       "    </tr>\n",
       "    <tr>\n",
       "      <th>6</th>\n",
       "      <td>Observatoire</td>\n",
       "      <td>48.829245</td>\n",
       "      <td>2.326542</td>\n",
       "      <td>2260.122186</td>\n",
       "    </tr>\n",
       "    <tr>\n",
       "      <th>7</th>\n",
       "      <td>Buttes-Chaumont</td>\n",
       "      <td>48.887076</td>\n",
       "      <td>2.384821</td>\n",
       "      <td>2145.755629</td>\n",
       "    </tr>\n",
       "    <tr>\n",
       "      <th>8</th>\n",
       "      <td>Ménilmontant</td>\n",
       "      <td>48.863461</td>\n",
       "      <td>2.401188</td>\n",
       "      <td>1625.823751</td>\n",
       "    </tr>\n",
       "    <tr>\n",
       "      <th>9</th>\n",
       "      <td>Luxembourg</td>\n",
       "      <td>48.849130</td>\n",
       "      <td>2.332898</td>\n",
       "      <td>1407.726786</td>\n",
       "    </tr>\n",
       "    <tr>\n",
       "      <th>10</th>\n",
       "      <td>Opéra</td>\n",
       "      <td>48.877164</td>\n",
       "      <td>2.337458</td>\n",
       "      <td>1062.959118</td>\n",
       "    </tr>\n",
       "    <tr>\n",
       "      <th>11</th>\n",
       "      <td>Batignolles-Monceau</td>\n",
       "      <td>48.887327</td>\n",
       "      <td>2.306777</td>\n",
       "      <td>1678.621184</td>\n",
       "    </tr>\n",
       "    <tr>\n",
       "      <th>12</th>\n",
       "      <td>Vaugirard</td>\n",
       "      <td>48.840085</td>\n",
       "      <td>2.292826</td>\n",
       "      <td>2284.873885</td>\n",
       "    </tr>\n",
       "    <tr>\n",
       "      <th>13</th>\n",
       "      <td>Panthéon</td>\n",
       "      <td>48.844443</td>\n",
       "      <td>2.350715</td>\n",
       "      <td>1212.116820</td>\n",
       "    </tr>\n",
       "    <tr>\n",
       "      <th>14</th>\n",
       "      <td>Palais-Bourbon</td>\n",
       "      <td>48.856174</td>\n",
       "      <td>2.312188</td>\n",
       "      <td>1709.870559</td>\n",
       "    </tr>\n",
       "    <tr>\n",
       "      <th>15</th>\n",
       "      <td>Entrepôt</td>\n",
       "      <td>48.876130</td>\n",
       "      <td>2.360728</td>\n",
       "      <td>1475.312688</td>\n",
       "    </tr>\n",
       "    <tr>\n",
       "      <th>16</th>\n",
       "      <td>Popincourt</td>\n",
       "      <td>48.859059</td>\n",
       "      <td>2.380058</td>\n",
       "      <td>1531.584620</td>\n",
       "    </tr>\n",
       "    <tr>\n",
       "      <th>17</th>\n",
       "      <td>Gobelins</td>\n",
       "      <td>48.828388</td>\n",
       "      <td>2.362272</td>\n",
       "      <td>1976.786248</td>\n",
       "    </tr>\n",
       "    <tr>\n",
       "      <th>18</th>\n",
       "      <td>Passy</td>\n",
       "      <td>48.860392</td>\n",
       "      <td>2.261971</td>\n",
       "      <td>3198.053579</td>\n",
       "    </tr>\n",
       "    <tr>\n",
       "      <th>19</th>\n",
       "      <td>Buttes-Montmartre</td>\n",
       "      <td>48.892569</td>\n",
       "      <td>2.348161</td>\n",
       "      <td>1884.498861</td>\n",
       "    </tr>\n",
       "  </tbody>\n",
       "</table>\n",
       "</div>"
      ],
      "text/plain": [
       "           Neighborhood   Latitude  Longitude  Distance to Nearest\n",
       "0                Bourse  48.868279   2.342803           788.555891\n",
       "1                Temple  48.862872   2.360001           964.527702\n",
       "2               Reuilly  48.834974   2.421325          3495.637308\n",
       "3                Louvre  48.862563   2.336443           788.555891\n",
       "4        Hôtel-de-Ville  48.854341   2.357630           964.527702\n",
       "5                Élysée  48.872721   2.312554          1678.621184\n",
       "6          Observatoire  48.829245   2.326542          2260.122186\n",
       "7       Buttes-Chaumont  48.887076   2.384821          2145.755629\n",
       "8          Ménilmontant  48.863461   2.401188          1625.823751\n",
       "9            Luxembourg  48.849130   2.332898          1407.726786\n",
       "10                Opéra  48.877164   2.337458          1062.959118\n",
       "11  Batignolles-Monceau  48.887327   2.306777          1678.621184\n",
       "12            Vaugirard  48.840085   2.292826          2284.873885\n",
       "13             Panthéon  48.844443   2.350715          1212.116820\n",
       "14       Palais-Bourbon  48.856174   2.312188          1709.870559\n",
       "15             Entrepôt  48.876130   2.360728          1475.312688\n",
       "16           Popincourt  48.859059   2.380058          1531.584620\n",
       "17             Gobelins  48.828388   2.362272          1976.786248\n",
       "18                Passy  48.860392   2.261971          3198.053579\n",
       "19    Buttes-Montmartre  48.892569   2.348161          1884.498861"
      ]
     },
     "execution_count": 4,
     "metadata": {},
     "output_type": "execute_result"
    }
   ],
   "source": [
    "def nearestDistances(df):\n",
    "    nearest_distance = []\n",
    "    for index, row in df.iterrows():\n",
    "        minimumDist = 9999999\n",
    "        coords_1 = (df.loc[index, 'Latitude'], df.loc[index, 'Longitude'])\n",
    "        for i in range(0, df.shape[0]):\n",
    "            if (i != index):\n",
    "                coords_2 = (df.loc[i, 'Latitude'], df.loc[i, 'Longitude'])\n",
    "                dist = geopy.distance.vincenty(coords_1, coords_2).m\n",
    "                if dist < minimumDist:\n",
    "                    minimumDist = dist\n",
    "        nearest_distance.append(minimumDist)\n",
    "    return nearest_distance\n",
    "\n",
    "df_parisNeighborhoods['Distance to Nearest'] = nearestDistances(df_parisNeighborhoods)\n",
    "\n",
    "df_parisNeighborhoods.to_csv('data/paris_neighborhoods.csv', quoting=csv.QUOTE_ALL, index=False)\n",
    "\n",
    "print(\"Number of neighborhoods is\", df_parisNeighborhoods.shape[0])\n",
    "df_parisNeighborhoods"
   ]
  },
  {
   "cell_type": "markdown",
   "metadata": {},
   "source": [
    "My search-areas for the nighborhoods of Paris looks like this:"
   ]
  },
  {
   "cell_type": "code",
   "execution_count": 5,
   "metadata": {},
   "outputs": [],
   "source": [
    "def createTownMap(df, zoom = 12):\n",
    "    # Create map centered around the mean latitude and longitude values\n",
    "    latitue = df['Latitude'].mean()\n",
    "    longitude = df['Longitude'].mean()\n",
    "\n",
    "    townmap = folium.Map(location=[latitue, longitude], zoom_start=zoom)\n",
    "\n",
    "    # Add the search-areas to map.\n",
    "    for lat, lng, neighborhood, radius in zip(df['Latitude'],\n",
    "                                              df['Longitude'],\n",
    "                                              df['Neighborhood'],\n",
    "                                              df['Distance to Nearest'] / 2):\n",
    "        label = folium.Popup(neighborhood, parse_html=True)\n",
    "\n",
    "        folium.Marker(\n",
    "            [lat, lng],\n",
    "            popup = neighborhood).add_to(townmap) \n",
    "        \n",
    "        folium.Circle(\n",
    "            radius=radius,\n",
    "            location=[lat, lng],\n",
    "            popup=label,\n",
    "            color='blue',\n",
    "            stroke= False,\n",
    "            fill=True,\n",
    "            fill_opacity=0.2).add_to(townmap)\n",
    "    return townmap"
   ]
  },
  {
   "cell_type": "code",
   "execution_count": 6,
   "metadata": {},
   "outputs": [
    {
     "data": {
      "text/html": [
       "<div style=\"width:100%;\"><div style=\"position:relative;width:100%;height:0;padding-bottom:60%;\"><iframe src=\"data:text/html;charset=utf-8;base64,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\" style=\"position:absolute;width:100%;height:100%;left:0;top:0;border:none !important;\" allowfullscreen webkitallowfullscreen mozallowfullscreen></iframe></div></div>"
      ],
      "text/plain": [
       "<folium.folium.Map at 0x7fe3ac1d68d0>"
      ]
     },
     "execution_count": 6,
     "metadata": {},
     "output_type": "execute_result"
    }
   ],
   "source": [
    "createTownMap(df_parisNeighborhoods)"
   ]
  },
  {
   "cell_type": "markdown",
   "metadata": {},
   "source": [
    "## The neighborhoods of Copenhagen\n",
    "\n",
    "The Copenhagen neighborhoods are a little more difficult to get. From WikiPedia [Bydele i Københavns kommune](https://da.wikipedia.org/wiki/Bydele_i_K%C3%B8benhavns_Kommune) (\"neighbohoods in Copenhagen Commune\") I collect the ten administrative areas of Copenhagen. They seem to fit most tourists view of neighborhoods in Copenhagen.\n",
    "\n",
    "The neighborhood *Indre by* (\"Inner City\") can be subdivided into smaller functionel neigborhoods but it turns out that FourSquare, that I will use later, has too few venues registered for some of the smaller neighborhoods and so I stay with *Indre by* as one neighborhood.\n",
    "\n",
    "Also I include *Frederiksberg* that is not administratively a part of the Copenhagen Commune but geographically lies inside the borders of Copenhagen (see [https://www.quora.com/Why-is-Frederiksberg-not-a-part-of-Copenhagen](https://www.quora.com/Why-is-Frederiksberg-not-a-part-of-Copenhagen) for more information about this curiosity).\n",
    "\n",
    "I get the data from the WikiPedia webpage and add *Frederiksberg* by hand."
   ]
  },
  {
   "cell_type": "code",
   "execution_count": 7,
   "metadata": {},
   "outputs": [
    {
     "name": "stdout",
     "output_type": "stream",
     "text": [
      "Number of neighborhoods is 11\n"
     ]
    },
    {
     "data": {
      "text/plain": [
       "['Amager Vest',\n",
       " 'Amager Øst',\n",
       " 'Bispebjerg',\n",
       " 'Brønshøj-Husum',\n",
       " 'Indre By',\n",
       " 'Nørrebro',\n",
       " 'Valby',\n",
       " 'Vanløse',\n",
       " 'Vesterbro/Kongens Enghave',\n",
       " 'Østerbro',\n",
       " 'Frederiksberg']"
      ]
     },
     "execution_count": 7,
     "metadata": {},
     "output_type": "execute_result"
    }
   ],
   "source": [
    "baseUrl = 'https://da.wikipedia.org/'\n",
    "url = baseUrl + 'wiki/Bydele_i_K%C3%B8benhavns_Kommune'\n",
    "\n",
    "sauce = requests.get(url).content\n",
    "soup = BeautifulSoup(sauce, 'lxml')\n",
    "\n",
    "table = soup.find('table', {'class': 'navbox'})\n",
    "td = table.find('td', {'class': 'navbox-list'})\n",
    "links = td.find_all('a', href=True)\n",
    "\n",
    "cphNames = []\n",
    "for link in links:\n",
    "    cphNames.append(link.text.strip())\n",
    "\n",
    "cphNames.append('Frederiksberg')\n",
    "\n",
    "print(\"Number of neighborhoods is \" + str(len(cphNames)))\n",
    "cphNames"
   ]
  },
  {
   "cell_type": "markdown",
   "metadata": {},
   "source": [
    "I am going to use the Nominatim geo locator to find the geographical coordinates near the center of each neighborhood. However, not all of the neighborhood names are found and some that are found returns coordinates far from the center.\n",
    "\n",
    "I fix it by adding an address for each neighborhood and setting the address to a name that can be found by Nomination."
   ]
  },
  {
   "cell_type": "code",
   "execution_count": 8,
   "metadata": {},
   "outputs": [
    {
     "name": "stdout",
     "output_type": "stream",
     "text": [
      "Number of rows = 11, number of columns = 4\n"
     ]
    },
    {
     "data": {
      "text/html": [
       "<div>\n",
       "<style scoped>\n",
       "    .dataframe tbody tr th:only-of-type {\n",
       "        vertical-align: middle;\n",
       "    }\n",
       "\n",
       "    .dataframe tbody tr th {\n",
       "        vertical-align: top;\n",
       "    }\n",
       "\n",
       "    .dataframe thead th {\n",
       "        text-align: right;\n",
       "    }\n",
       "</style>\n",
       "<table border=\"1\" class=\"dataframe\">\n",
       "  <thead>\n",
       "    <tr style=\"text-align: right;\">\n",
       "      <th></th>\n",
       "      <th>Neighborhood</th>\n",
       "      <th>Address</th>\n",
       "      <th>Latitude</th>\n",
       "      <th>Longitude</th>\n",
       "    </tr>\n",
       "  </thead>\n",
       "  <tbody>\n",
       "    <tr>\n",
       "      <th>0</th>\n",
       "      <td>Amager Vest</td>\n",
       "      <td>Vestamager</td>\n",
       "      <td>NaN</td>\n",
       "      <td>NaN</td>\n",
       "    </tr>\n",
       "    <tr>\n",
       "      <th>1</th>\n",
       "      <td>Amager Øst</td>\n",
       "      <td>Øresundsvej</td>\n",
       "      <td>NaN</td>\n",
       "      <td>NaN</td>\n",
       "    </tr>\n",
       "    <tr>\n",
       "      <th>2</th>\n",
       "      <td>Bispebjerg</td>\n",
       "      <td>Bispebjerg</td>\n",
       "      <td>NaN</td>\n",
       "      <td>NaN</td>\n",
       "    </tr>\n",
       "  </tbody>\n",
       "</table>\n",
       "</div>"
      ],
      "text/plain": [
       "  Neighborhood      Address  Latitude  Longitude\n",
       "0  Amager Vest   Vestamager       NaN        NaN\n",
       "1   Amager Øst  Øresundsvej       NaN        NaN\n",
       "2   Bispebjerg   Bispebjerg       NaN        NaN"
      ]
     },
     "execution_count": 8,
     "metadata": {},
     "output_type": "execute_result"
    }
   ],
   "source": [
    "address = cphNames.copy()\n",
    "\n",
    "address[address.index('Amager Vest')] = 'Vestamager'\n",
    "address[address.index('Amager Øst')] = 'Øresundsvej'\n",
    "address[address.index('Vesterbro/Kongens Enghave')] = 'Sønder Boulevard'\n",
    "address[address.index('Indre By')] = 'Kongens Nytorv'\n",
    "\n",
    "df_cphNeighborhoods = pd.DataFrame({'Neighborhood': cphNames, 'Address': address})\n",
    "df_cphNeighborhoods['Latitude'] = np.nan\n",
    "df_cphNeighborhoods['Longitude'] = np.nan\n",
    "\n",
    "print(\"Number of rows = {}, number of columns = {}\".format(df_cphNeighborhoods.shape[0], df_cphNeighborhoods.shape[1]))\n",
    "df_cphNeighborhoods.head(3)"
   ]
  },
  {
   "cell_type": "markdown",
   "metadata": {},
   "source": [
    "I use Nominatim to find and add the geographical locations of the neighborhoods."
   ]
  },
  {
   "cell_type": "code",
   "execution_count": 9,
   "metadata": {},
   "outputs": [
    {
     "name": "stdout",
     "output_type": "stream",
     "text": [
      "Number of rows = 11, number of columns = 4\n"
     ]
    },
    {
     "data": {
      "text/html": [
       "<div>\n",
       "<style scoped>\n",
       "    .dataframe tbody tr th:only-of-type {\n",
       "        vertical-align: middle;\n",
       "    }\n",
       "\n",
       "    .dataframe tbody tr th {\n",
       "        vertical-align: top;\n",
       "    }\n",
       "\n",
       "    .dataframe thead th {\n",
       "        text-align: right;\n",
       "    }\n",
       "</style>\n",
       "<table border=\"1\" class=\"dataframe\">\n",
       "  <thead>\n",
       "    <tr style=\"text-align: right;\">\n",
       "      <th></th>\n",
       "      <th>Neighborhood</th>\n",
       "      <th>Address</th>\n",
       "      <th>Latitude</th>\n",
       "      <th>Longitude</th>\n",
       "    </tr>\n",
       "  </thead>\n",
       "  <tbody>\n",
       "    <tr>\n",
       "      <th>0</th>\n",
       "      <td>Amager Vest</td>\n",
       "      <td>Vestamager</td>\n",
       "      <td>55.619371</td>\n",
       "      <td>12.575584</td>\n",
       "    </tr>\n",
       "    <tr>\n",
       "      <th>1</th>\n",
       "      <td>Amager Øst</td>\n",
       "      <td>Øresundsvej</td>\n",
       "      <td>55.661537</td>\n",
       "      <td>12.626487</td>\n",
       "    </tr>\n",
       "    <tr>\n",
       "      <th>2</th>\n",
       "      <td>Bispebjerg</td>\n",
       "      <td>Bispebjerg</td>\n",
       "      <td>55.710950</td>\n",
       "      <td>12.534000</td>\n",
       "    </tr>\n",
       "  </tbody>\n",
       "</table>\n",
       "</div>"
      ],
      "text/plain": [
       "  Neighborhood      Address   Latitude  Longitude\n",
       "0  Amager Vest   Vestamager  55.619371  12.575584\n",
       "1   Amager Øst  Øresundsvej  55.661537  12.626487\n",
       "2   Bispebjerg   Bispebjerg  55.710950  12.534000"
      ]
     },
     "execution_count": 9,
     "metadata": {},
     "output_type": "execute_result"
    }
   ],
   "source": [
    "for name in df_cphNeighborhoods['Address']:\n",
    "    address = name + ', København, Danmark'\n",
    "    geolocator = Nominatim(user_agent='dk.pawhermansen')\n",
    "    location = geolocator.geocode(address)\n",
    "    if location != None:\n",
    "        df_cphNeighborhoods.loc[df_cphNeighborhoods['Address'] == name, 'Latitude'] = location.latitude\n",
    "        df_cphNeighborhoods.loc[df_cphNeighborhoods['Address'] == name, 'Longitude'] = location.longitude\n",
    "\n",
    "print(\"Number of rows = {}, number of columns = {}\".format(df_cphNeighborhoods.shape[0], df_cphNeighborhoods.shape[1]))\n",
    "df_cphNeighborhoods.head(3)"
   ]
  },
  {
   "cell_type": "markdown",
   "metadata": {},
   "source": [
    "As explained for the Paris neighborhoods I want to find appropriate size of the search-areas and I computer the distance in meter to each neighborhoods closest neighbor. Finally I remove the address column again and save the Copenhagen neighborhoods to a local csv file."
   ]
  },
  {
   "cell_type": "markdown",
   "metadata": {},
   "source": [
    "\n"
   ]
  },
  {
   "cell_type": "code",
   "execution_count": 10,
   "metadata": {},
   "outputs": [
    {
     "name": "stdout",
     "output_type": "stream",
     "text": [
      "Number of neighborhoods is 11\n"
     ]
    },
    {
     "data": {
      "text/html": [
       "<div>\n",
       "<style scoped>\n",
       "    .dataframe tbody tr th:only-of-type {\n",
       "        vertical-align: middle;\n",
       "    }\n",
       "\n",
       "    .dataframe tbody tr th {\n",
       "        vertical-align: top;\n",
       "    }\n",
       "\n",
       "    .dataframe thead th {\n",
       "        text-align: right;\n",
       "    }\n",
       "</style>\n",
       "<table border=\"1\" class=\"dataframe\">\n",
       "  <thead>\n",
       "    <tr style=\"text-align: right;\">\n",
       "      <th></th>\n",
       "      <th>Neighborhood</th>\n",
       "      <th>Latitude</th>\n",
       "      <th>Longitude</th>\n",
       "      <th>Distance to Nearest</th>\n",
       "    </tr>\n",
       "  </thead>\n",
       "  <tbody>\n",
       "    <tr>\n",
       "      <th>0</th>\n",
       "      <td>Amager Vest</td>\n",
       "      <td>55.619371</td>\n",
       "      <td>12.575584</td>\n",
       "      <td>5364.845473</td>\n",
       "    </tr>\n",
       "    <tr>\n",
       "      <th>1</th>\n",
       "      <td>Amager Øst</td>\n",
       "      <td>55.661537</td>\n",
       "      <td>12.626487</td>\n",
       "      <td>3372.547947</td>\n",
       "    </tr>\n",
       "    <tr>\n",
       "      <th>2</th>\n",
       "      <td>Bispebjerg</td>\n",
       "      <td>55.710950</td>\n",
       "      <td>12.534000</td>\n",
       "      <td>1812.305497</td>\n",
       "    </tr>\n",
       "    <tr>\n",
       "      <th>3</th>\n",
       "      <td>Brønshøj-Husum</td>\n",
       "      <td>55.704536</td>\n",
       "      <td>12.501445</td>\n",
       "      <td>2167.519938</td>\n",
       "    </tr>\n",
       "    <tr>\n",
       "      <th>4</th>\n",
       "      <td>Indre By</td>\n",
       "      <td>55.680889</td>\n",
       "      <td>12.585253</td>\n",
       "      <td>2698.854219</td>\n",
       "    </tr>\n",
       "    <tr>\n",
       "      <th>5</th>\n",
       "      <td>Nørrebro</td>\n",
       "      <td>55.695894</td>\n",
       "      <td>12.544956</td>\n",
       "      <td>1812.305497</td>\n",
       "    </tr>\n",
       "    <tr>\n",
       "      <th>6</th>\n",
       "      <td>Valby</td>\n",
       "      <td>55.661802</td>\n",
       "      <td>12.516952</td>\n",
       "      <td>2056.828338</td>\n",
       "    </tr>\n",
       "    <tr>\n",
       "      <th>7</th>\n",
       "      <td>Vanløse</td>\n",
       "      <td>55.685625</td>\n",
       "      <td>12.488809</td>\n",
       "      <td>2250.439743</td>\n",
       "    </tr>\n",
       "    <tr>\n",
       "      <th>8</th>\n",
       "      <td>Vesterbro/Kongens Enghave</td>\n",
       "      <td>55.665257</td>\n",
       "      <td>12.549573</td>\n",
       "      <td>1776.504126</td>\n",
       "    </tr>\n",
       "    <tr>\n",
       "      <th>9</th>\n",
       "      <td>Østerbro</td>\n",
       "      <td>55.705084</td>\n",
       "      <td>12.582614</td>\n",
       "      <td>2579.354408</td>\n",
       "    </tr>\n",
       "    <tr>\n",
       "      <th>10</th>\n",
       "      <td>Frederiksberg</td>\n",
       "      <td>55.678016</td>\n",
       "      <td>12.532619</td>\n",
       "      <td>1776.504126</td>\n",
       "    </tr>\n",
       "  </tbody>\n",
       "</table>\n",
       "</div>"
      ],
      "text/plain": [
       "                 Neighborhood   Latitude  Longitude  Distance to Nearest\n",
       "0                 Amager Vest  55.619371  12.575584          5364.845473\n",
       "1                  Amager Øst  55.661537  12.626487          3372.547947\n",
       "2                  Bispebjerg  55.710950  12.534000          1812.305497\n",
       "3              Brønshøj-Husum  55.704536  12.501445          2167.519938\n",
       "4                    Indre By  55.680889  12.585253          2698.854219\n",
       "5                    Nørrebro  55.695894  12.544956          1812.305497\n",
       "6                       Valby  55.661802  12.516952          2056.828338\n",
       "7                     Vanløse  55.685625  12.488809          2250.439743\n",
       "8   Vesterbro/Kongens Enghave  55.665257  12.549573          1776.504126\n",
       "9                    Østerbro  55.705084  12.582614          2579.354408\n",
       "10              Frederiksberg  55.678016  12.532619          1776.504126"
      ]
     },
     "execution_count": 10,
     "metadata": {},
     "output_type": "execute_result"
    }
   ],
   "source": [
    "df_cphNeighborhoods['Distance to Nearest'] = nearestDistances(df_cphNeighborhoods)\n",
    "df_cphNeighborhoods = df_cphNeighborhoods.drop(columns=['Address'])\n",
    "\n",
    "df_cphNeighborhoods.to_csv('data/cph_neighborhoods.csv', quoting=csv.QUOTE_ALL, index=False)\n",
    "\n",
    "print(\"Number of neighborhoods is\", df_cphNeighborhoods.shape[0])\n",
    "df_cphNeighborhoods"
   ]
  },
  {
   "cell_type": "markdown",
   "metadata": {},
   "source": [
    "My search-areas for the nighborhoods of Copenhagen looks like this:"
   ]
  },
  {
   "cell_type": "code",
   "execution_count": 11,
   "metadata": {},
   "outputs": [
    {
     "data": {
      "text/html": [
       "<div style=\"width:100%;\"><div style=\"position:relative;width:100%;height:0;padding-bottom:60%;\"><iframe src=\"data:text/html;charset=utf-8;base64,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\" style=\"position:absolute;width:100%;height:100%;left:0;top:0;border:none !important;\" allowfullscreen webkitallowfullscreen mozallowfullscreen></iframe></div></div>"
      ],
      "text/plain": [
       "<folium.folium.Map at 0x7fe3742bc278>"
      ]
     },
     "execution_count": 11,
     "metadata": {},
     "output_type": "execute_result"
    }
   ],
   "source": [
    "createTownMap(df_cphNeighborhoods)"
   ]
  },
  {
   "cell_type": "markdown",
   "metadata": {},
   "source": [
    "## Venues for the neighborhoods"
   ]
  },
  {
   "cell_type": "markdown",
   "metadata": {},
   "source": [
    "### Define Foursquare Credentials and Version\n",
    "\n",
    "I define my personal credentials to Foursquare in environment variables on the machine where I execute the notebook and read them below from the environment variables."
   ]
  },
  {
   "cell_type": "code",
   "execution_count": 12,
   "metadata": {},
   "outputs": [
    {
     "name": "stdout",
     "output_type": "stream",
     "text": [
      "Got your credentails!\n"
     ]
    }
   ],
   "source": [
    "CLIENT_ID = os.environ['FOURSQUARE_ID'] # your Foursquare ID\n",
    "CLIENT_SECRET = os.environ['FOURSQUARE_SECRET'] # your Foursquare Secret\n",
    "VERSION = '20180605' # Foursquare API version\n",
    "\n",
    "if CLIENT_ID and CLIENT_SECRET:\n",
    "    print('Got your credentails!')\n",
    "else:\n",
    "    raise ValueError('Foursquare credentials are missing - should be set as environment variables')"
   ]
  },
  {
   "cell_type": "markdown",
   "metadata": {},
   "source": [
    "### Define function to call the Foursquare API and find venues nearby a given location\n",
    "\n",
    "The function is copied from the *Applied Data Science Capstone* course material with my own addition to join categories if a venue has more than one category instead of just taking the first category.\n",
    "\n",
    "The parameters are lists of:\n",
    "* *names*: a name of the location or neighborhood.\n",
    "* *cities*: the city name of the neighborhood.\n",
    "* *latitudes*: the latitude of the location or neighborhood.\n",
    "* *longitudes*: the longitude of the location or neighborhood.\n",
    "* *radius*: the maximal distance in meters to from the location to search for venues. Defaults to 500m.\n",
    "\n",
    "Returns a dataframes with a row for each found venue within *radius* meter from the given location."
   ]
  },
  {
   "cell_type": "code",
   "execution_count": 13,
   "metadata": {},
   "outputs": [],
   "source": [
    "def getNearbyVenues(names, cities, latitudes, longitudes, radii):\n",
    "    \n",
    "    venues_list=[]\n",
    "    for name, city, lat, lng, radius in zip(names, cities, latitudes, longitudes, radii):\n",
    "        print(name)\n",
    "            \n",
    "        # create the API request URL\n",
    "        LIMIT = 100  # max according to foursquare documentation\n",
    "        url = 'https://api.foursquare.com/v2/venues/explore?&client_id={}&client_secret={}&v={}&ll={},{}&radius={}&limit={}'.format(\n",
    "            CLIENT_ID, \n",
    "            CLIENT_SECRET, \n",
    "            VERSION, \n",
    "            lat, \n",
    "            lng, \n",
    "            radius, \n",
    "            LIMIT)\n",
    "            \n",
    "        # make the GET request\n",
    "        results = requests.get(url).json()[\"response\"]['groups'][0]['items']\n",
    "        \n",
    "        # return only relevant information for each nearby venue\n",
    "        venues_list.append([(\n",
    "            name,\n",
    "            city,\n",
    "            lat,\n",
    "            lng,\n",
    "            v['venue']['name'], \n",
    "            v['venue']['location']['lat'], \n",
    "            v['venue']['location']['lng'],  \n",
    "            ', '.join([c['name'] for c in v['venue']['categories']])) for v in results])\n",
    "\n",
    "    nearby_venues = pd.DataFrame([item for venue_list in venues_list for item in venue_list])\n",
    "    nearby_venues.columns = ['Neighborhood',\n",
    "                             'City',\n",
    "                             'Neighborhood Latitude', \n",
    "                             'Neighborhood Longitude', \n",
    "                             'Venue', \n",
    "                             'Venue Latitude', \n",
    "                             'Venue Longitude', \n",
    "                             'Venue Category']\n",
    "    \n",
    "    return(nearby_venues)"
   ]
  },
  {
   "cell_type": "markdown",
   "metadata": {},
   "source": [
    "### Find the venues from Foursquare\n",
    "\n",
    "First I create and save a combined table of all the neighborhoods."
   ]
  },
  {
   "cell_type": "code",
   "execution_count": 14,
   "metadata": {},
   "outputs": [
    {
     "name": "stdout",
     "output_type": "stream",
     "text": [
      "Number of rows = 31, number of columns = 5\n"
     ]
    },
    {
     "data": {
      "text/html": [
       "<div>\n",
       "<style scoped>\n",
       "    .dataframe tbody tr th:only-of-type {\n",
       "        vertical-align: middle;\n",
       "    }\n",
       "\n",
       "    .dataframe tbody tr th {\n",
       "        vertical-align: top;\n",
       "    }\n",
       "\n",
       "    .dataframe thead th {\n",
       "        text-align: right;\n",
       "    }\n",
       "</style>\n",
       "<table border=\"1\" class=\"dataframe\">\n",
       "  <thead>\n",
       "    <tr style=\"text-align: right;\">\n",
       "      <th></th>\n",
       "      <th>Neighborhood</th>\n",
       "      <th>City</th>\n",
       "      <th>Latitude</th>\n",
       "      <th>Longitude</th>\n",
       "      <th>Distance to Nearest</th>\n",
       "    </tr>\n",
       "  </thead>\n",
       "  <tbody>\n",
       "    <tr>\n",
       "      <th>0</th>\n",
       "      <td>Amager Vest</td>\n",
       "      <td>København</td>\n",
       "      <td>55.619371</td>\n",
       "      <td>12.575584</td>\n",
       "      <td>5364.845473</td>\n",
       "    </tr>\n",
       "    <tr>\n",
       "      <th>1</th>\n",
       "      <td>Amager Øst</td>\n",
       "      <td>København</td>\n",
       "      <td>55.661537</td>\n",
       "      <td>12.626487</td>\n",
       "      <td>3372.547947</td>\n",
       "    </tr>\n",
       "    <tr>\n",
       "      <th>2</th>\n",
       "      <td>Bispebjerg</td>\n",
       "      <td>København</td>\n",
       "      <td>55.710950</td>\n",
       "      <td>12.534000</td>\n",
       "      <td>1812.305497</td>\n",
       "    </tr>\n",
       "  </tbody>\n",
       "</table>\n",
       "</div>"
      ],
      "text/plain": [
       "  Neighborhood       City   Latitude  Longitude  Distance to Nearest\n",
       "0  Amager Vest  København  55.619371  12.575584          5364.845473\n",
       "1   Amager Øst  København  55.661537  12.626487          3372.547947\n",
       "2   Bispebjerg  København  55.710950  12.534000          1812.305497"
      ]
     },
     "execution_count": 14,
     "metadata": {},
     "output_type": "execute_result"
    }
   ],
   "source": [
    "df_parisNeighborhoods['City'] = 'Paris'\n",
    "df_cphNeighborhoods['City'] = 'København'\n",
    "\n",
    "df_neighborhoods = df_cphNeighborhoods.append(df_parisNeighborhoods).reset_index(drop=True)\n",
    "df_neighborhoods = df_neighborhoods[['Neighborhood', 'City', 'Latitude', 'Longitude', 'Distance to Nearest']]\n",
    "\n",
    "df_neighborhoods.to_csv('data/neighborhoods.csv', quoting=csv.QUOTE_ALL, index=False)\n",
    "\n",
    "print(\"Number of rows = {}, number of columns = {}\".format(df_neighborhoods.shape[0], df_neighborhoods.shape[1]))\n",
    "df_neighborhoods.head(3)"
   ]
  },
  {
   "cell_type": "markdown",
   "metadata": {},
   "source": [
    " Then I find the venues for each neighborhood."
   ]
  },
  {
   "cell_type": "code",
   "execution_count": 15,
   "metadata": {},
   "outputs": [
    {
     "name": "stdout",
     "output_type": "stream",
     "text": [
      "Amager Vest\n",
      "Amager Øst\n",
      "Bispebjerg\n",
      "Brønshøj-Husum\n",
      "Indre By\n",
      "Nørrebro\n",
      "Valby\n",
      "Vanløse\n",
      "Vesterbro/Kongens Enghave\n",
      "Østerbro\n",
      "Frederiksberg\n",
      "Bourse\n",
      "Temple\n",
      "Reuilly\n",
      "Louvre\n",
      "Hôtel-de-Ville\n",
      "Élysée\n",
      "Observatoire\n",
      "Buttes-Chaumont\n",
      "Ménilmontant\n",
      "Luxembourg\n",
      "Opéra\n",
      "Batignolles-Monceau\n",
      "Vaugirard\n",
      "Panthéon\n",
      "Palais-Bourbon\n",
      "Entrepôt\n",
      "Popincourt\n",
      "Gobelins\n",
      "Passy\n",
      "Buttes-Montmartre\n",
      "\n",
      "Total number of found venues for all neighborhoods:  2774\n"
     ]
    },
    {
     "data": {
      "text/html": [
       "<div>\n",
       "<style scoped>\n",
       "    .dataframe tbody tr th:only-of-type {\n",
       "        vertical-align: middle;\n",
       "    }\n",
       "\n",
       "    .dataframe tbody tr th {\n",
       "        vertical-align: top;\n",
       "    }\n",
       "\n",
       "    .dataframe thead th {\n",
       "        text-align: right;\n",
       "    }\n",
       "</style>\n",
       "<table border=\"1\" class=\"dataframe\">\n",
       "  <thead>\n",
       "    <tr style=\"text-align: right;\">\n",
       "      <th></th>\n",
       "      <th>Neighborhood</th>\n",
       "      <th>City</th>\n",
       "      <th>Neighborhood Latitude</th>\n",
       "      <th>Neighborhood Longitude</th>\n",
       "      <th>Venue</th>\n",
       "      <th>Venue Latitude</th>\n",
       "      <th>Venue Longitude</th>\n",
       "      <th>Venue Category</th>\n",
       "    </tr>\n",
       "  </thead>\n",
       "  <tbody>\n",
       "    <tr>\n",
       "      <th>0</th>\n",
       "      <td>Amager Vest</td>\n",
       "      <td>København</td>\n",
       "      <td>55.619371</td>\n",
       "      <td>12.575584</td>\n",
       "      <td>Naturcenter Amager</td>\n",
       "      <td>55.614620</td>\n",
       "      <td>12.574853</td>\n",
       "      <td>Park</td>\n",
       "    </tr>\n",
       "    <tr>\n",
       "      <th>1</th>\n",
       "      <td>Amager Vest</td>\n",
       "      <td>København</td>\n",
       "      <td>55.619371</td>\n",
       "      <td>12.575584</td>\n",
       "      <td>8tallet</td>\n",
       "      <td>55.618353</td>\n",
       "      <td>12.571841</td>\n",
       "      <td>Building</td>\n",
       "    </tr>\n",
       "    <tr>\n",
       "      <th>2</th>\n",
       "      <td>Amager Vest</td>\n",
       "      <td>København</td>\n",
       "      <td>55.619371</td>\n",
       "      <td>12.575584</td>\n",
       "      <td>Royal Arena</td>\n",
       "      <td>55.625469</td>\n",
       "      <td>12.573884</td>\n",
       "      <td>Event Space</td>\n",
       "    </tr>\n",
       "  </tbody>\n",
       "</table>\n",
       "</div>"
      ],
      "text/plain": [
       "  Neighborhood       City  Neighborhood Latitude  Neighborhood Longitude  \\\n",
       "0  Amager Vest  København              55.619371               12.575584   \n",
       "1  Amager Vest  København              55.619371               12.575584   \n",
       "2  Amager Vest  København              55.619371               12.575584   \n",
       "\n",
       "                Venue  Venue Latitude  Venue Longitude Venue Category  \n",
       "0  Naturcenter Amager       55.614620        12.574853           Park  \n",
       "1             8tallet       55.618353        12.571841       Building  \n",
       "2         Royal Arena       55.625469        12.573884    Event Space  "
      ]
     },
     "execution_count": 15,
     "metadata": {},
     "output_type": "execute_result"
    }
   ],
   "source": [
    "df_venues = getNearbyVenues(df_neighborhoods['Neighborhood'],\n",
    "                            df_neighborhoods['City'],\n",
    "                            df_neighborhoods['Latitude'],\n",
    "                            df_neighborhoods['Longitude'],\n",
    "                            df_neighborhoods['Distance to Nearest'] / 2)\n",
    "\n",
    "print()\n",
    "print('Total number of found venues for all neighborhoods: ', df_venues.shape[0])\n",
    "df_venues.head(3)"
   ]
  },
  {
   "cell_type": "markdown",
   "metadata": {},
   "source": [
    "### No Multiple Categories were found\n",
    "\n",
    "In the earlier defined function *getNearbyVenues* I separate multiple categories in the *Venue Category* by a comma. However, as observed from the count of zero in the next cell, it turns out that none of the results from Foursquare actually has multiple categories and so nothing more needs to be done."
   ]
  },
  {
   "cell_type": "code",
   "execution_count": 16,
   "metadata": {},
   "outputs": [
    {
     "data": {
      "text/plain": [
       "0"
      ]
     },
     "execution_count": 16,
     "metadata": {},
     "output_type": "execute_result"
    }
   ],
   "source": [
    "df_venues['Venue Category'].str.contains(',').sum()"
   ]
  },
  {
   "cell_type": "markdown",
   "metadata": {},
   "source": [
    "### 'Neighborhood' is a venue category\n",
    "\n"
   ]
  },
  {
   "cell_type": "code",
   "execution_count": 17,
   "metadata": {},
   "outputs": [
    {
     "data": {
      "text/html": [
       "<div>\n",
       "<style scoped>\n",
       "    .dataframe tbody tr th:only-of-type {\n",
       "        vertical-align: middle;\n",
       "    }\n",
       "\n",
       "    .dataframe tbody tr th {\n",
       "        vertical-align: top;\n",
       "    }\n",
       "\n",
       "    .dataframe thead th {\n",
       "        text-align: right;\n",
       "    }\n",
       "</style>\n",
       "<table border=\"1\" class=\"dataframe\">\n",
       "  <thead>\n",
       "    <tr style=\"text-align: right;\">\n",
       "      <th></th>\n",
       "      <th>Neighborhood</th>\n",
       "      <th>City</th>\n",
       "      <th>Neighborhood Latitude</th>\n",
       "      <th>Neighborhood Longitude</th>\n",
       "      <th>Venue</th>\n",
       "      <th>Venue Latitude</th>\n",
       "      <th>Venue Longitude</th>\n",
       "      <th>Venue Category</th>\n",
       "    </tr>\n",
       "  </thead>\n",
       "  <tbody>\n",
       "    <tr>\n",
       "      <th>605</th>\n",
       "      <td>Vesterbro/Kongens Enghave</td>\n",
       "      <td>København</td>\n",
       "      <td>55.665257</td>\n",
       "      <td>12.549573</td>\n",
       "      <td>Kødbyen</td>\n",
       "      <td>55.668336</td>\n",
       "      <td>12.558662</td>\n",
       "      <td>Neighborhood</td>\n",
       "    </tr>\n",
       "  </tbody>\n",
       "</table>\n",
       "</div>"
      ],
      "text/plain": [
       "                  Neighborhood       City  Neighborhood Latitude  \\\n",
       "605  Vesterbro/Kongens Enghave  København              55.665257   \n",
       "\n",
       "     Neighborhood Longitude    Venue  Venue Latitude  Venue Longitude  \\\n",
       "605               12.549573  Kødbyen       55.668336        12.558662   \n",
       "\n",
       "    Venue Category  \n",
       "605   Neighborhood  "
      ]
     },
     "execution_count": 17,
     "metadata": {},
     "output_type": "execute_result"
    }
   ],
   "source": [
    "df_venues[df_venues['Venue Category'] == 'Neighborhood']"
   ]
  },
  {
   "cell_type": "markdown",
   "metadata": {},
   "source": [
    "Later in this notebook I will use onehot encoding of the venue categories. Onehot encoding will create a column with the name 'Neighborhood' for the venue category. But I already use the column name 'Neighborhood' for the name of the neighborhood and two different columns cannot have the same name. To solve this I decide to rename the venue category 'Neighborhood' to 'Locality'."
   ]
  },
  {
   "cell_type": "code",
   "execution_count": 18,
   "metadata": {},
   "outputs": [
    {
     "data": {
      "text/html": [
       "<div>\n",
       "<style scoped>\n",
       "    .dataframe tbody tr th:only-of-type {\n",
       "        vertical-align: middle;\n",
       "    }\n",
       "\n",
       "    .dataframe tbody tr th {\n",
       "        vertical-align: top;\n",
       "    }\n",
       "\n",
       "    .dataframe thead th {\n",
       "        text-align: right;\n",
       "    }\n",
       "</style>\n",
       "<table border=\"1\" class=\"dataframe\">\n",
       "  <thead>\n",
       "    <tr style=\"text-align: right;\">\n",
       "      <th></th>\n",
       "      <th>Neighborhood</th>\n",
       "      <th>City</th>\n",
       "      <th>Neighborhood Latitude</th>\n",
       "      <th>Neighborhood Longitude</th>\n",
       "      <th>Venue</th>\n",
       "      <th>Venue Latitude</th>\n",
       "      <th>Venue Longitude</th>\n",
       "      <th>Venue Category</th>\n",
       "    </tr>\n",
       "  </thead>\n",
       "  <tbody>\n",
       "    <tr>\n",
       "      <th>605</th>\n",
       "      <td>Vesterbro/Kongens Enghave</td>\n",
       "      <td>København</td>\n",
       "      <td>55.665257</td>\n",
       "      <td>12.549573</td>\n",
       "      <td>Kødbyen</td>\n",
       "      <td>55.668336</td>\n",
       "      <td>12.558662</td>\n",
       "      <td>Locality</td>\n",
       "    </tr>\n",
       "  </tbody>\n",
       "</table>\n",
       "</div>"
      ],
      "text/plain": [
       "                  Neighborhood       City  Neighborhood Latitude  \\\n",
       "605  Vesterbro/Kongens Enghave  København              55.665257   \n",
       "\n",
       "     Neighborhood Longitude    Venue  Venue Latitude  Venue Longitude  \\\n",
       "605               12.549573  Kødbyen       55.668336        12.558662   \n",
       "\n",
       "    Venue Category  \n",
       "605       Locality  "
      ]
     },
     "execution_count": 18,
     "metadata": {},
     "output_type": "execute_result"
    }
   ],
   "source": [
    "df_venues['Venue Category'] = df_venues['Venue Category'].str.replace('Neighborhood', 'Locality')\n",
    "\n",
    "df_venues[df_venues['Venue Category'] == 'Locality']"
   ]
  },
  {
   "cell_type": "markdown",
   "metadata": {},
   "source": [
    "### Save the Venues\n",
    "\n",
    "Finally I can save the venues table to a local csv file."
   ]
  },
  {
   "cell_type": "code",
   "execution_count": 19,
   "metadata": {},
   "outputs": [
    {
     "name": "stdout",
     "output_type": "stream",
     "text": [
      "Number of rows = 2774, number of columns = 8\n"
     ]
    },
    {
     "data": {
      "text/html": [
       "<div>\n",
       "<style scoped>\n",
       "    .dataframe tbody tr th:only-of-type {\n",
       "        vertical-align: middle;\n",
       "    }\n",
       "\n",
       "    .dataframe tbody tr th {\n",
       "        vertical-align: top;\n",
       "    }\n",
       "\n",
       "    .dataframe thead th {\n",
       "        text-align: right;\n",
       "    }\n",
       "</style>\n",
       "<table border=\"1\" class=\"dataframe\">\n",
       "  <thead>\n",
       "    <tr style=\"text-align: right;\">\n",
       "      <th></th>\n",
       "      <th>Neighborhood</th>\n",
       "      <th>City</th>\n",
       "      <th>Neighborhood Latitude</th>\n",
       "      <th>Neighborhood Longitude</th>\n",
       "      <th>Venue</th>\n",
       "      <th>Venue Latitude</th>\n",
       "      <th>Venue Longitude</th>\n",
       "      <th>Venue Category</th>\n",
       "    </tr>\n",
       "  </thead>\n",
       "  <tbody>\n",
       "    <tr>\n",
       "      <th>0</th>\n",
       "      <td>Amager Vest</td>\n",
       "      <td>København</td>\n",
       "      <td>55.619371</td>\n",
       "      <td>12.575584</td>\n",
       "      <td>Naturcenter Amager</td>\n",
       "      <td>55.614620</td>\n",
       "      <td>12.574853</td>\n",
       "      <td>Park</td>\n",
       "    </tr>\n",
       "    <tr>\n",
       "      <th>1</th>\n",
       "      <td>Amager Vest</td>\n",
       "      <td>København</td>\n",
       "      <td>55.619371</td>\n",
       "      <td>12.575584</td>\n",
       "      <td>8tallet</td>\n",
       "      <td>55.618353</td>\n",
       "      <td>12.571841</td>\n",
       "      <td>Building</td>\n",
       "    </tr>\n",
       "    <tr>\n",
       "      <th>2</th>\n",
       "      <td>Amager Vest</td>\n",
       "      <td>København</td>\n",
       "      <td>55.619371</td>\n",
       "      <td>12.575584</td>\n",
       "      <td>Royal Arena</td>\n",
       "      <td>55.625469</td>\n",
       "      <td>12.573884</td>\n",
       "      <td>Event Space</td>\n",
       "    </tr>\n",
       "  </tbody>\n",
       "</table>\n",
       "</div>"
      ],
      "text/plain": [
       "  Neighborhood       City  Neighborhood Latitude  Neighborhood Longitude  \\\n",
       "0  Amager Vest  København              55.619371               12.575584   \n",
       "1  Amager Vest  København              55.619371               12.575584   \n",
       "2  Amager Vest  København              55.619371               12.575584   \n",
       "\n",
       "                Venue  Venue Latitude  Venue Longitude Venue Category  \n",
       "0  Naturcenter Amager       55.614620        12.574853           Park  \n",
       "1             8tallet       55.618353        12.571841       Building  \n",
       "2         Royal Arena       55.625469        12.573884    Event Space  "
      ]
     },
     "execution_count": 19,
     "metadata": {},
     "output_type": "execute_result"
    }
   ],
   "source": [
    "df_venues.to_csv('data/venues.csv', quoting=csv.QUOTE_ALL, index=False)\n",
    "\n",
    "print(\"Number of rows = {}, number of columns = {}\".format(df_venues.shape[0], df_venues.shape[1]))\n",
    "df_venues.head(3)"
   ]
  },
  {
   "cell_type": "markdown",
   "metadata": {},
   "source": [
    "# 5. Data Understanding"
   ]
  },
  {
   "cell_type": "markdown",
   "metadata": {},
   "source": [
    "### More Paris neighborhoods than Copenhagen neighborhoods\n",
    "\n",
    "It is clear from the earlier shown lists of neighborhoods that the number of Paris neighborhoods are nearly the double of the number of Copenhagen neighborhoods. This must be of course be remembered later when comparing how many neighborhoods from each city are in the found clusters."
   ]
  },
  {
   "cell_type": "markdown",
   "metadata": {},
   "source": [
    "### Number of Unique Venues Categories"
   ]
  },
  {
   "cell_type": "code",
   "execution_count": 20,
   "metadata": {},
   "outputs": [
    {
     "name": "stdout",
     "output_type": "stream",
     "text": [
      "There are 290 unique categories.\n"
     ]
    }
   ],
   "source": [
    "df_categories = pd.DataFrame(df_venues['Venue Category'].unique(), columns = ['Venue Category'])\n",
    "\n",
    "print('There are {} unique categories.'.format(len(df_categories)))"
   ]
  },
  {
   "cell_type": "markdown",
   "metadata": {},
   "source": [
    "That is quite a lot of different venue categories and there will certainly be no problems in expressing the differencies in the neighborhoods.\n",
    "\n",
    "On the other hand, the venue categories might be too detailed, for example with restaurants that are categorized by their kitchens originating country. After seeing the first results of the clustering it might become relevant to consider if, for example, a Scandinavian Restaurant in Copenhagen should or should not be counted as being different from a French Restaurant in Paris."
   ]
  },
  {
   "cell_type": "code",
   "execution_count": 21,
   "metadata": {},
   "outputs": [
    {
     "name": "stdout",
     "output_type": "stream",
     "text": [
      "Number of different Restaurant categories in the venues data is 65\n"
     ]
    },
    {
     "data": {
      "text/html": [
       "<div>\n",
       "<style scoped>\n",
       "    .dataframe tbody tr th:only-of-type {\n",
       "        vertical-align: middle;\n",
       "    }\n",
       "\n",
       "    .dataframe tbody tr th {\n",
       "        vertical-align: top;\n",
       "    }\n",
       "\n",
       "    .dataframe thead th {\n",
       "        text-align: right;\n",
       "    }\n",
       "</style>\n",
       "<table border=\"1\" class=\"dataframe\">\n",
       "  <thead>\n",
       "    <tr style=\"text-align: right;\">\n",
       "      <th></th>\n",
       "      <th>Venue Category</th>\n",
       "    </tr>\n",
       "  </thead>\n",
       "  <tbody>\n",
       "    <tr>\n",
       "      <th>9</th>\n",
       "      <td>Scandinavian Restaurant</td>\n",
       "    </tr>\n",
       "    <tr>\n",
       "      <th>11</th>\n",
       "      <td>Tapas Restaurant</td>\n",
       "    </tr>\n",
       "    <tr>\n",
       "      <th>20</th>\n",
       "      <td>Fast Food Restaurant</td>\n",
       "    </tr>\n",
       "    <tr>\n",
       "      <th>24</th>\n",
       "      <td>Indian Restaurant</td>\n",
       "    </tr>\n",
       "    <tr>\n",
       "      <th>25</th>\n",
       "      <td>Restaurant</td>\n",
       "    </tr>\n",
       "    <tr>\n",
       "      <th>46</th>\n",
       "      <td>Sushi Restaurant</td>\n",
       "    </tr>\n",
       "    <tr>\n",
       "      <th>56</th>\n",
       "      <td>Italian Restaurant</td>\n",
       "    </tr>\n",
       "    <tr>\n",
       "      <th>60</th>\n",
       "      <td>Thai Restaurant</td>\n",
       "    </tr>\n",
       "    <tr>\n",
       "      <th>63</th>\n",
       "      <td>Chinese Restaurant</td>\n",
       "    </tr>\n",
       "    <tr>\n",
       "      <th>86</th>\n",
       "      <td>Middle Eastern Restaurant</td>\n",
       "    </tr>\n",
       "  </tbody>\n",
       "</table>\n",
       "</div>"
      ],
      "text/plain": [
       "               Venue Category\n",
       "9     Scandinavian Restaurant\n",
       "11           Tapas Restaurant\n",
       "20       Fast Food Restaurant\n",
       "24          Indian Restaurant\n",
       "25                 Restaurant\n",
       "46           Sushi Restaurant\n",
       "56         Italian Restaurant\n",
       "60            Thai Restaurant\n",
       "63         Chinese Restaurant\n",
       "86  Middle Eastern Restaurant"
      ]
     },
     "execution_count": 21,
     "metadata": {},
     "output_type": "execute_result"
    }
   ],
   "source": [
    "df_restaurantCategories = df_categories[df_categories['Venue Category'].str.contains(\"Restaurant\")]\n",
    "\n",
    "print('Number of different Restaurant categories in the venues data is', len(df_restaurantCategories))\n",
    "df_restaurantCategories.head(10)"
   ]
  },
  {
   "cell_type": "markdown",
   "metadata": {},
   "source": [
    "### Counting the found venues in each neighborhood\n",
    "\n",
    "The following table shows how many venues were found from FourSquare for each neighborhood.\n",
    "\n",
    "It is seen that two of the neighborhoods have only around 30 venues and this is in the lower end of necessary venues in each neighborhood. However because it is only two neighborhoods and the rest have above fifty venues each I will use them as they are.\n",
    "\n",
    "On the other hand we see that several neighborhoods have exactly 100 found venues and that no neighborhood has more than 100 venues. This is caused by the FourSquare API that has this as a maximum. I assume that the returned venues are representative for all the venues in the neighborhood and use them as they are."
   ]
  },
  {
   "cell_type": "code",
   "execution_count": 22,
   "metadata": {},
   "outputs": [
    {
     "data": {
      "text/html": [
       "<div>\n",
       "<style scoped>\n",
       "    .dataframe tbody tr th:only-of-type {\n",
       "        vertical-align: middle;\n",
       "    }\n",
       "\n",
       "    .dataframe tbody tr th {\n",
       "        vertical-align: top;\n",
       "    }\n",
       "\n",
       "    .dataframe thead th {\n",
       "        text-align: right;\n",
       "    }\n",
       "</style>\n",
       "<table border=\"1\" class=\"dataframe\">\n",
       "  <thead>\n",
       "    <tr style=\"text-align: right;\">\n",
       "      <th></th>\n",
       "      <th>Neighborhood</th>\n",
       "      <th>Venue count</th>\n",
       "    </tr>\n",
       "  </thead>\n",
       "  <tbody>\n",
       "    <tr>\n",
       "      <th>0</th>\n",
       "      <td>Amager Vest</td>\n",
       "      <td>60</td>\n",
       "    </tr>\n",
       "    <tr>\n",
       "      <th>1</th>\n",
       "      <td>Amager Øst</td>\n",
       "      <td>100</td>\n",
       "    </tr>\n",
       "    <tr>\n",
       "      <th>2</th>\n",
       "      <td>Batignolles-Monceau</td>\n",
       "      <td>100</td>\n",
       "    </tr>\n",
       "    <tr>\n",
       "      <th>3</th>\n",
       "      <td>Bispebjerg</td>\n",
       "      <td>35</td>\n",
       "    </tr>\n",
       "    <tr>\n",
       "      <th>4</th>\n",
       "      <td>Bourse</td>\n",
       "      <td>100</td>\n",
       "    </tr>\n",
       "    <tr>\n",
       "      <th>5</th>\n",
       "      <td>Brønshøj-Husum</td>\n",
       "      <td>28</td>\n",
       "    </tr>\n",
       "    <tr>\n",
       "      <th>6</th>\n",
       "      <td>Buttes-Chaumont</td>\n",
       "      <td>80</td>\n",
       "    </tr>\n",
       "    <tr>\n",
       "      <th>7</th>\n",
       "      <td>Buttes-Montmartre</td>\n",
       "      <td>100</td>\n",
       "    </tr>\n",
       "    <tr>\n",
       "      <th>8</th>\n",
       "      <td>Entrepôt</td>\n",
       "      <td>100</td>\n",
       "    </tr>\n",
       "    <tr>\n",
       "      <th>9</th>\n",
       "      <td>Frederiksberg</td>\n",
       "      <td>93</td>\n",
       "    </tr>\n",
       "    <tr>\n",
       "      <th>10</th>\n",
       "      <td>Gobelins</td>\n",
       "      <td>100</td>\n",
       "    </tr>\n",
       "    <tr>\n",
       "      <th>11</th>\n",
       "      <td>Hôtel-de-Ville</td>\n",
       "      <td>100</td>\n",
       "    </tr>\n",
       "    <tr>\n",
       "      <th>12</th>\n",
       "      <td>Indre By</td>\n",
       "      <td>100</td>\n",
       "    </tr>\n",
       "    <tr>\n",
       "      <th>13</th>\n",
       "      <td>Louvre</td>\n",
       "      <td>91</td>\n",
       "    </tr>\n",
       "    <tr>\n",
       "      <th>14</th>\n",
       "      <td>Luxembourg</td>\n",
       "      <td>100</td>\n",
       "    </tr>\n",
       "    <tr>\n",
       "      <th>15</th>\n",
       "      <td>Ménilmontant</td>\n",
       "      <td>87</td>\n",
       "    </tr>\n",
       "    <tr>\n",
       "      <th>16</th>\n",
       "      <td>Nørrebro</td>\n",
       "      <td>100</td>\n",
       "    </tr>\n",
       "    <tr>\n",
       "      <th>17</th>\n",
       "      <td>Observatoire</td>\n",
       "      <td>100</td>\n",
       "    </tr>\n",
       "    <tr>\n",
       "      <th>18</th>\n",
       "      <td>Opéra</td>\n",
       "      <td>100</td>\n",
       "    </tr>\n",
       "    <tr>\n",
       "      <th>19</th>\n",
       "      <td>Palais-Bourbon</td>\n",
       "      <td>100</td>\n",
       "    </tr>\n",
       "    <tr>\n",
       "      <th>20</th>\n",
       "      <td>Panthéon</td>\n",
       "      <td>100</td>\n",
       "    </tr>\n",
       "    <tr>\n",
       "      <th>21</th>\n",
       "      <td>Passy</td>\n",
       "      <td>100</td>\n",
       "    </tr>\n",
       "    <tr>\n",
       "      <th>22</th>\n",
       "      <td>Popincourt</td>\n",
       "      <td>100</td>\n",
       "    </tr>\n",
       "    <tr>\n",
       "      <th>23</th>\n",
       "      <td>Reuilly</td>\n",
       "      <td>100</td>\n",
       "    </tr>\n",
       "    <tr>\n",
       "      <th>24</th>\n",
       "      <td>Temple</td>\n",
       "      <td>100</td>\n",
       "    </tr>\n",
       "    <tr>\n",
       "      <th>25</th>\n",
       "      <td>Valby</td>\n",
       "      <td>62</td>\n",
       "    </tr>\n",
       "    <tr>\n",
       "      <th>26</th>\n",
       "      <td>Vanløse</td>\n",
       "      <td>57</td>\n",
       "    </tr>\n",
       "    <tr>\n",
       "      <th>27</th>\n",
       "      <td>Vaugirard</td>\n",
       "      <td>100</td>\n",
       "    </tr>\n",
       "    <tr>\n",
       "      <th>28</th>\n",
       "      <td>Vesterbro/Kongens Enghave</td>\n",
       "      <td>100</td>\n",
       "    </tr>\n",
       "    <tr>\n",
       "      <th>29</th>\n",
       "      <td>Élysée</td>\n",
       "      <td>100</td>\n",
       "    </tr>\n",
       "    <tr>\n",
       "      <th>30</th>\n",
       "      <td>Østerbro</td>\n",
       "      <td>81</td>\n",
       "    </tr>\n",
       "  </tbody>\n",
       "</table>\n",
       "</div>"
      ],
      "text/plain": [
       "                 Neighborhood  Venue count\n",
       "0                 Amager Vest           60\n",
       "1                  Amager Øst          100\n",
       "2         Batignolles-Monceau          100\n",
       "3                  Bispebjerg           35\n",
       "4                      Bourse          100\n",
       "5              Brønshøj-Husum           28\n",
       "6             Buttes-Chaumont           80\n",
       "7           Buttes-Montmartre          100\n",
       "8                    Entrepôt          100\n",
       "9               Frederiksberg           93\n",
       "10                   Gobelins          100\n",
       "11             Hôtel-de-Ville          100\n",
       "12                   Indre By          100\n",
       "13                     Louvre           91\n",
       "14                 Luxembourg          100\n",
       "15               Ménilmontant           87\n",
       "16                   Nørrebro          100\n",
       "17               Observatoire          100\n",
       "18                      Opéra          100\n",
       "19             Palais-Bourbon          100\n",
       "20                   Panthéon          100\n",
       "21                      Passy          100\n",
       "22                 Popincourt          100\n",
       "23                    Reuilly          100\n",
       "24                     Temple          100\n",
       "25                      Valby           62\n",
       "26                    Vanløse           57\n",
       "27                  Vaugirard          100\n",
       "28  Vesterbro/Kongens Enghave          100\n",
       "29                     Élysée          100\n",
       "30                   Østerbro           81"
      ]
     },
     "execution_count": 22,
     "metadata": {},
     "output_type": "execute_result"
    }
   ],
   "source": [
    "df_venues.groupby('Neighborhood').size().reset_index(name='Venue count')"
   ]
  },
  {
   "cell_type": "markdown",
   "metadata": {},
   "source": [
    "### Size of the Search Area and the Number of Venues from Foursquare"
   ]
  },
  {
   "cell_type": "markdown",
   "metadata": {},
   "source": [
    "The table below shows that Foursquare returned three times as many venues per square kilometer for Paris when compared to Copenhagen.\n",
    "\n",
    "This could indicate that Paris have more venues that are interesting enough to make it into Foursquare but I think it is much more likely that the Foursquare app is more popular in France than in Denmark and I consider this fact as having no influence on the results in this notebook."
   ]
  },
  {
   "cell_type": "code",
   "execution_count": 23,
   "metadata": {},
   "outputs": [
    {
     "data": {
      "text/html": [
       "<div>\n",
       "<style scoped>\n",
       "    .dataframe tbody tr th:only-of-type {\n",
       "        vertical-align: middle;\n",
       "    }\n",
       "\n",
       "    .dataframe tbody tr th {\n",
       "        vertical-align: top;\n",
       "    }\n",
       "\n",
       "    .dataframe thead th {\n",
       "        text-align: right;\n",
       "    }\n",
       "</style>\n",
       "<table border=\"1\" class=\"dataframe\">\n",
       "  <thead>\n",
       "    <tr style=\"text-align: right;\">\n",
       "      <th></th>\n",
       "      <th>City</th>\n",
       "      <th>Venue count</th>\n",
       "      <th>Search Area</th>\n",
       "      <th>Venues per km2</th>\n",
       "    </tr>\n",
       "  </thead>\n",
       "  <tbody>\n",
       "    <tr>\n",
       "      <th>0</th>\n",
       "      <td>København</td>\n",
       "      <td>816</td>\n",
       "      <td>6.359111e+07</td>\n",
       "      <td>12.831982</td>\n",
       "    </tr>\n",
       "    <tr>\n",
       "      <th>1</th>\n",
       "      <td>Paris</td>\n",
       "      <td>1958</td>\n",
       "      <td>5.360275e+07</td>\n",
       "      <td>36.527975</td>\n",
       "    </tr>\n",
       "  </tbody>\n",
       "</table>\n",
       "</div>"
      ],
      "text/plain": [
       "        City  Venue count   Search Area  Venues per km2\n",
       "0  København          816  6.359111e+07       12.831982\n",
       "1      Paris         1958  5.360275e+07       36.527975"
      ]
     },
     "execution_count": 23,
     "metadata": {},
     "output_type": "execute_result"
    }
   ],
   "source": [
    "df_parisSearchAreas = np.square(df_parisNeighborhoods['Distance to Nearest'] / 2) * 3.1416\n",
    "df_cphSearchAreas = np.square(df_cphNeighborhoods['Distance to Nearest'] / 2) * 3.1416\n",
    "\n",
    "df_venuesByCity = df_venues.groupby('City').size().reset_index(name='Venue count')\n",
    "df_venuesByCity['Search Area'] = [df_cphSearchAreas.sum(), df_parisSearchAreas.sum()]\n",
    "df_venuesByCity['Venues per km2'] = 1e6 * df_venuesByCity['Venue count'] / df_venuesByCity['Search Area']\n",
    "\n",
    "df_venuesByCity"
   ]
  }
 ],
 "metadata": {
  "kernelspec": {
   "display_name": "Python 3",
   "language": "python",
   "name": "python3"
  },
  "language_info": {
   "codemirror_mode": {
    "name": "ipython",
    "version": 3
   },
   "file_extension": ".py",
   "mimetype": "text/x-python",
   "name": "python",
   "nbconvert_exporter": "python",
   "pygments_lexer": "ipython3",
   "version": "3.7.0"
  }
 },
 "nbformat": 4,
 "nbformat_minor": 2
}
